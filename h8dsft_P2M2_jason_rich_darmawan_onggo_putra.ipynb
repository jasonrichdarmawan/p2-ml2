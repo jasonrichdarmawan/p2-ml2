{
 "cells": [
  {
   "cell_type": "markdown",
   "metadata": {},
   "source": [
    "# Perkenalan\n",
    "\n",
    "Nama : Jason Rich Darmawan Onggo Putra\n",
    "\n",
    "Batch : 016 RMT\n",
    "\n",
    "Data set overview :\n",
    "\n",
    "Objective : "
   ]
  },
  {
   "cell_type": "markdown",
   "metadata": {},
   "source": [
    "# Import Libraries"
   ]
  },
  {
   "cell_type": "code",
   "execution_count": 38,
   "metadata": {},
   "outputs": [
    {
     "name": "stdout",
     "output_type": "stream",
     "text": [
      "Tensorflow version 2.10.0\n"
     ]
    }
   ],
   "source": [
    "# Data Loading\n",
    "import os\n",
    "import glob\n",
    "import pandas as pd\n",
    "\n",
    "import tensorflow as tf\n",
    "print('Tensorflow version', tf.__version__)\n"
   ]
  },
  {
   "cell_type": "markdown",
   "metadata": {},
   "source": [
    "# Data Loading"
   ]
  },
  {
   "cell_type": "code",
   "execution_count": null,
   "metadata": {},
   "outputs": [],
   "source": [
    "# Download the data set\n",
    "!kaggle datasets download chrisfilo/fruit-recognition"
   ]
  },
  {
   "cell_type": "code",
   "execution_count": null,
   "metadata": {},
   "outputs": [],
   "source": [
    "# Unzip the data set\n",
    "# -q = quiet mode\n",
    "# -o overwrite fies WITHOUT prompting\n",
    "# -d exdir\n",
    "!unzip -q -o fruit-recognition.zip -d ./data"
   ]
  },
  {
   "cell_type": "code",
   "execution_count": 19,
   "metadata": {},
   "outputs": [
    {
     "name": "stdout",
     "output_type": "stream",
     "text": [
      "['Apple', 'Banana', 'Carambola', 'Guava', 'Kiwi', 'Mango', 'muskmelon', 'Orange', 'Peach', 'Pear', 'Persimmon', 'Pitaya', 'Plum', 'Pomegranate', 'Tomatoes']\n"
     ]
    }
   ],
   "source": [
    "# Get kind of fruits\n",
    "print(os.listdir('./data/'))"
   ]
  },
  {
   "cell_type": "code",
   "execution_count": 20,
   "metadata": {},
   "outputs": [
    {
     "name": "stdout",
     "output_type": "stream",
     "text": [
      "['Apple A', 'Apple B', 'Apple C', 'Apple D', 'Apple E', 'Apple F', 'Total Number of Apples']\n"
     ]
    }
   ],
   "source": [
    "# Get Apple sub-categories\n",
    "# folder 'Total Number of Apples' is similar to folder '\n",
    "print(os.listdir('./data/Apple/'))"
   ]
  },
  {
   "cell_type": "code",
   "execution_count": 30,
   "metadata": {},
   "outputs": [
    {
     "name": "stdout",
     "output_type": "stream",
     "text": [
      "['Apple 1.png', 'Apple 10.png', 'Apple 100.png', 'Apple 101.png', 'Apple 102.png']\n",
      "['71Banana02034.png', '79Banana02063.png', '87Banana02109.png', 'Banana01.png', 'Banana010.png']\n"
     ]
    }
   ],
   "source": [
    "# Get Apple images\n",
    "print(os.listdir('./data/Apple/Apple A')[:5])\n",
    "# Get Banana images\n",
    "print(os.listdir('./data/Banana/')[:5])"
   ]
  },
  {
   "cell_type": "markdown",
   "metadata": {},
   "source": [
    "TODO\n",
    "- [ ] Do EDA on Apple, Guava, Kiwi sub-categories."
   ]
  },
  {
   "cell_type": "code",
   "execution_count": 43,
   "metadata": {},
   "outputs": [
    {
     "name": "stdout",
     "output_type": "stream",
     "text": [
      "kinds ['Apple', 'Banana', 'Carambola', 'Guava', 'Kiwi', 'Mango', 'muskmelon', 'Orange', 'Peach', 'Pear', 'Persimmon', 'Pitaya', 'Plum', 'Pomegranate', 'Tomatoes']\n",
      "sub-categories of Apple ['Apple A', 'Apple B', 'Apple C', 'Apple D', 'Apple E', 'Apple F', 'Total Number of Apples']\n",
      "sub-categories of Guava ['guava A', 'guava B', 'Guava total', 'guava total final']\n",
      "sub-categories of Kiwi ['kiwi A', 'Kiwi B', 'Kiwi C', 'Total Number of Kiwi fruit']\n"
     ]
    }
   ],
   "source": [
    "# Get kind of fruits and its sub-categories\n",
    "def isolate():\n",
    "    kinds = os.listdir('./data/')\n",
    "    print(\"kinds\", kinds)\n",
    "    for kind in kinds:\n",
    "        sub_categories = [path for path in os.listdir('./data/'+kind) \n",
    "                          if os.path.isdir('./data/'+kind+'/'+path)]\n",
    "        if len(sub_categories) != 0:\n",
    "            print(\"sub-categories of\", kind, sub_categories)\n",
    "    \n",
    "isolate()"
   ]
  },
  {
   "cell_type": "code",
   "execution_count": 50,
   "metadata": {},
   "outputs": [],
   "source": [
    "# Load the data set\n",
    "def isolate():\n",
    "    global df\n",
    "    \n",
    "    data = []\n",
    "    \n",
    "    kinds = os.listdir('./data/')\n",
    "    for kind in kinds:\n",
    "        sub_categories = [path for path in os.listdir(f'./data/{kind}')\n",
    "                          if os.path.isdir(f'./data/{kind}/{path}')]\n",
    "        for sub_category in sub_categories:\n",
    "            data += [[sub_category, path] for path in \n",
    "                   glob.glob(pathname=f'./data/{kind}/{sub_category}/*.png')]\n",
    "            \n",
    "    df = pd.DataFrame(data=data)\n",
    "    \n",
    "isolate()"
   ]
  },
  {
   "cell_type": "code",
   "execution_count": 53,
   "metadata": {},
   "outputs": [
    {
     "data": {
      "text/html": [
       "<div>\n",
       "<style scoped>\n",
       "    .dataframe tbody tr th:only-of-type {\n",
       "        vertical-align: middle;\n",
       "    }\n",
       "\n",
       "    .dataframe tbody tr th {\n",
       "        vertical-align: top;\n",
       "    }\n",
       "\n",
       "    .dataframe thead th {\n",
       "        text-align: right;\n",
       "    }\n",
       "</style>\n",
       "<table border=\"1\" class=\"dataframe\">\n",
       "  <thead>\n",
       "    <tr style=\"text-align: right;\">\n",
       "      <th></th>\n",
       "      <th>0</th>\n",
       "      <th>1</th>\n",
       "    </tr>\n",
       "  </thead>\n",
       "  <tbody>\n",
       "    <tr>\n",
       "      <th>0</th>\n",
       "      <td>Apple A</td>\n",
       "      <td>./data/Apple/Apple A/Apple 1.png</td>\n",
       "    </tr>\n",
       "    <tr>\n",
       "      <th>1</th>\n",
       "      <td>Apple A</td>\n",
       "      <td>./data/Apple/Apple A/Apple 10.png</td>\n",
       "    </tr>\n",
       "    <tr>\n",
       "      <th>2</th>\n",
       "      <td>Apple A</td>\n",
       "      <td>./data/Apple/Apple A/Apple 100.png</td>\n",
       "    </tr>\n",
       "    <tr>\n",
       "      <th>3</th>\n",
       "      <td>Apple A</td>\n",
       "      <td>./data/Apple/Apple A/Apple 101.png</td>\n",
       "    </tr>\n",
       "    <tr>\n",
       "      <th>4</th>\n",
       "      <td>Apple A</td>\n",
       "      <td>./data/Apple/Apple A/Apple 102.png</td>\n",
       "    </tr>\n",
       "  </tbody>\n",
       "</table>\n",
       "</div>"
      ],
      "text/plain": [
       "         0                                   1\n",
       "0  Apple A    ./data/Apple/Apple A/Apple 1.png\n",
       "1  Apple A   ./data/Apple/Apple A/Apple 10.png\n",
       "2  Apple A  ./data/Apple/Apple A/Apple 100.png\n",
       "3  Apple A  ./data/Apple/Apple A/Apple 101.png\n",
       "4  Apple A  ./data/Apple/Apple A/Apple 102.png"
      ]
     },
     "execution_count": 53,
     "metadata": {},
     "output_type": "execute_result"
    }
   ],
   "source": [
    "# Preview the data set\n",
    "df.head()"
   ]
  }
 ],
 "metadata": {
  "kernelspec": {
   "display_name": "Python 3.10.8 64-bit",
   "language": "python",
   "name": "python3"
  },
  "language_info": {
   "codemirror_mode": {
    "name": "ipython",
    "version": 3
   },
   "file_extension": ".py",
   "mimetype": "text/x-python",
   "name": "python",
   "nbconvert_exporter": "python",
   "pygments_lexer": "ipython3",
   "version": "3.10.8"
  },
  "orig_nbformat": 4,
  "vscode": {
   "interpreter": {
    "hash": "aee8b7b246df8f9039afb4144a1f6fd8d2ca17a180786b69acc140d282b71a49"
   }
  }
 },
 "nbformat": 4,
 "nbformat_minor": 2
}
