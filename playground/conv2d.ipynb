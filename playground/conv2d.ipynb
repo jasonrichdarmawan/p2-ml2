{
 "cells": [
  {
   "cell_type": "code",
   "execution_count": 33,
   "metadata": {},
   "outputs": [
    {
     "name": "stdout",
     "output_type": "stream",
     "text": [
      "Model: \"sequential_29\"\n",
      "_________________________________________________________________\n",
      " Layer (type)                Output Shape              Param #   \n",
      "=================================================================\n",
      " conv2d_29 (Conv2D)          (None, 4, 4, 1)           28        \n",
      "                                                                 \n",
      " max_pooling2d_23 (MaxPoolin  (None, 2, 2, 1)          0         \n",
      " g2D)                                                            \n",
      "                                                                 \n",
      " flatten_21 (Flatten)        (None, 4)                 0         \n",
      "                                                                 \n",
      " dense_20 (Dense)            (None, 2)                 10        \n",
      "                                                                 \n",
      " softmax_19 (Softmax)        (None, 2)                 0         \n",
      "                                                                 \n",
      "=================================================================\n",
      "Total params: 38\n",
      "Trainable params: 38\n",
      "Non-trainable params: 0\n",
      "_________________________________________________________________\n"
     ]
    }
   ],
   "source": [
    "from keras.models import Sequential\n",
    "from keras.layers import Conv2D, MaxPooling2D, Flatten, Dense, Activation, Softmax\n",
    "\n",
    "model = Sequential()\n",
    "\n",
    "model.add(Conv2D(\n",
    "    # 1 filter creates 1 feature map.\n",
    "    # 2 filters create 2 feature map.\n",
    "    # typically, we run the feature map through a relu activation function\n",
    "    filters=1, kernel_size=(3,3), activation='relu', input_shape=(6,6,3), \n",
    "    use_bias=True))\n",
    "\n",
    "# pool_size=(2,2) strides=2\n",
    "# typically, this filter does not overlap itself\n",
    "# padding='same' helps us to not lose informattion\n",
    "# pool_size and strides do not lose info, padding='same' will not pad anything\n",
    "model.add(MaxPooling2D(pool_size=(2,2), strides=2, padding='same'))\n",
    "\n",
    "# 1 filter with MaxPool2D pool_size=(2,2) strides=2\n",
    "# the expected output = 4.\n",
    "model.add(Flatten())\n",
    "\n",
    "# units=2\n",
    "# expected output = 2\n",
    "model.add(Dense(units=2, activation='relu'))\n",
    "\n",
    "# we can makee the output easier to interpret by running it\n",
    "# through the softmax function\n",
    "model.add(Softmax())\n",
    "\n",
    "model.summary()"
   ]
  },
  {
   "cell_type": "markdown",
   "metadata": {},
   "source": [
    "[Figure 4.2](http://www.iosrjournals.org/iosr-jce/papers/Vol22-issue2/Series-1/A2202010113.pdf)"
   ]
  },
  {
   "cell_type": "code",
   "execution_count": 38,
   "metadata": {},
   "outputs": [
    {
     "name": "stdout",
     "output_type": "stream",
     "text": [
      "Model: \"sequential_34\"\n",
      "_________________________________________________________________\n",
      " Layer (type)                Output Shape              Param #   \n",
      "=================================================================\n",
      " conv2d_34 (Conv2D)          (None, 30, 30, 3)         30        \n",
      "                                                                 \n",
      " max_pooling2d_29 (MaxPoolin  (None, 15, 15, 3)        0         \n",
      " g2D)                                                            \n",
      "                                                                 \n",
      " flatten_26 (Flatten)        (None, 675)               0         \n",
      "                                                                 \n",
      " dense_25 (Dense)            (None, 4)                 2704      \n",
      "                                                                 \n",
      " softmax_24 (Softmax)        (None, 4)                 0         \n",
      "                                                                 \n",
      "=================================================================\n",
      "Total params: 2,734\n",
      "Trainable params: 2,734\n",
      "Non-trainable params: 0\n",
      "_________________________________________________________________\n"
     ]
    }
   ],
   "source": [
    "model = Sequential()\n",
    "\n",
    "model.add(Conv2D(\n",
    "    filters=3, kernel_size=(3,3), activation='relu', input_shape=(32,32,1), \n",
    "    use_bias=True))\n",
    "\n",
    "model.add(MaxPooling2D(pool_size=(2,2), strides=2, padding='same'))\n",
    "\n",
    "model.add(Flatten())\n",
    "\n",
    "model.add(Dense(units=4, activation='relu'))\n",
    "\n",
    "model.add(Softmax())\n",
    "\n",
    "model.summary()"
   ]
  }
 ],
 "metadata": {
  "kernelspec": {
   "display_name": "Python 3.10.8 64-bit",
   "language": "python",
   "name": "python3"
  },
  "language_info": {
   "codemirror_mode": {
    "name": "ipython",
    "version": 3
   },
   "file_extension": ".py",
   "mimetype": "text/x-python",
   "name": "python",
   "nbconvert_exporter": "python",
   "pygments_lexer": "ipython3",
   "version": "3.10.8"
  },
  "orig_nbformat": 4,
  "vscode": {
   "interpreter": {
    "hash": "aee8b7b246df8f9039afb4144a1f6fd8d2ca17a180786b69acc140d282b71a49"
   }
  }
 },
 "nbformat": 4,
 "nbformat_minor": 2
}
