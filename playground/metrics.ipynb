{
 "cells": [
  {
   "cell_type": "code",
   "execution_count": 108,
   "metadata": {},
   "outputs": [
    {
     "data": {
      "text/plain": [
       "0.8333334"
      ]
     },
     "execution_count": 108,
     "metadata": {},
     "output_type": "execute_result"
    }
   ],
   "source": [
    "import tensorflow as tf\n",
    "import numpy as np\n",
    "m = tf.keras.metrics.Accuracy()\n",
    "y_true = np.array([\n",
    "    [0,1,0,0], # 1st row\n",
    "    [1,0,0,0], # nth row\n",
    "    [0,1,0,0],\n",
    "])\n",
    "y_pred = np.array([\n",
    "    [0,1,0,0],\n",
    "    [1,0,0,0],\n",
    "    [1,0,0,0],\n",
    "])\n",
    "m.update_state(y_true, \n",
    "               y_pred)\n",
    "m.result().numpy()"
   ]
  },
  {
   "cell_type": "code",
   "execution_count": 121,
   "metadata": {},
   "outputs": [
    {
     "data": {
      "text/plain": [
       "0.6666667"
      ]
     },
     "execution_count": 121,
     "metadata": {},
     "output_type": "execute_result"
    }
   ],
   "source": [
    "m.reset_state()\n",
    "m.update_state(tf.argmax(y_true, axis=-1), \n",
    "               tf.argmax(y_pred, axis=-1))\n",
    "m.result().numpy()"
   ]
  },
  {
   "cell_type": "markdown",
   "metadata": {},
   "source": [
    "There are total 12 lemeents out of which 10 are correct `10 / 12 = 0.8333`"
   ]
  },
  {
   "cell_type": "code",
   "execution_count": 125,
   "metadata": {},
   "outputs": [
    {
     "data": {
      "text/plain": [
       "0.6666667"
      ]
     },
     "execution_count": 125,
     "metadata": {},
     "output_type": "execute_result"
    }
   ],
   "source": [
    "import tensorflow as tf\n",
    "import numpy as np\n",
    "m = tf.keras.metrics.CategoricalAccuracy()\n",
    "y_true = np.array([\n",
    "    [0,1,0,0], # 1st row\n",
    "    [1,0,0,0], # nth row\n",
    "    [0,1,0,0],\n",
    "])\n",
    "y_pred = np.array([\n",
    "    [0,1,0,0],\n",
    "    [1,0,0,0],\n",
    "    [1,0,0,0],\n",
    "])\n",
    "m.update_state(y_true, \n",
    "               y_pred)\n",
    "m.result().numpy()"
   ]
  },
  {
   "cell_type": "code",
   "execution_count": 105,
   "metadata": {},
   "outputs": [
    {
     "data": {
      "text/plain": [
       "array([1.       , 0.6666667, 0.6666667, 0.       ], dtype=float32)"
      ]
     },
     "execution_count": 105,
     "metadata": {},
     "output_type": "execute_result"
    }
   ],
   "source": [
    "import tensorflow_addons as tfa\n",
    "metric = tfa.metrics.F1Score(\n",
    "    num_classes=4, threshold=0.5)\n",
    "y_true = np.array([\n",
    "    [0, 1, 1, 0],\n",
    "    [0, 0, 0, 1],\n",
    "    [1, 0, 1, 0],\n",
    "])\n",
    "y_pred = np.array([\n",
    "    [0, 1, 0, 0],\n",
    "    [0, 1, 0, 0],\n",
    "    [0.6, 0, 0.51, 0],\n",
    "])\n",
    "metric.update_state(y_true, y_pred)\n",
    "result = metric.result()\n",
    "result.numpy()"
   ]
  },
  {
   "cell_type": "markdown",
   "metadata": {},
   "source": [
    "```\n",
    "       class 0  ,   class 1,   class 2, class 3\n",
    "array([1.       , 0.6666667, 0.6666667, 0.       ], dtype=float32)\n",
    "```\n",
    "\n",
    "3. class 2\n",
    "   1. precision = 1 / 1 + 0\n",
    "   2. recall    = 1 / 1 + 1\n",
    "   3. f1 score  = 2 * 1 * 0.5 / (1 + 0.5) = 0.666\n",
    "4. class 3\n",
    "   1. precision = 0 / 0 + 0\n",
    "   2. recall    = 0 / 0 + 1\n",
    "   3. f1 score  = 2 * 0 * 0 / (0 + 0) = 0"
   ]
  },
  {
   "cell_type": "code",
   "execution_count": 75,
   "metadata": {},
   "outputs": [
    {
     "data": {
      "text/plain": [
       "array([0.8, 0. , 0. ])"
      ]
     },
     "execution_count": 75,
     "metadata": {},
     "output_type": "execute_result"
    }
   ],
   "source": [
    "from sklearn.metrics import f1_score\n",
    "y_true = [0, 1, 2, 0, 1, 2]\n",
    "y_pred = [0, 2, 1, 0, 0, 1]\n",
    "f1_score(y_true, y_pred, average=None)"
   ]
  }
 ],
 "metadata": {
  "kernelspec": {
   "display_name": "Python 3.10.8 64-bit",
   "language": "python",
   "name": "python3"
  },
  "language_info": {
   "codemirror_mode": {
    "name": "ipython",
    "version": 3
   },
   "file_extension": ".py",
   "mimetype": "text/x-python",
   "name": "python",
   "nbconvert_exporter": "python",
   "pygments_lexer": "ipython3",
   "version": "3.10.8"
  },
  "orig_nbformat": 4,
  "vscode": {
   "interpreter": {
    "hash": "aee8b7b246df8f9039afb4144a1f6fd8d2ca17a180786b69acc140d282b71a49"
   }
  }
 },
 "nbformat": 4,
 "nbformat_minor": 2
}
