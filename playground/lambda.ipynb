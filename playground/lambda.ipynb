{
 "cells": [
  {
   "cell_type": "code",
   "execution_count": 1,
   "metadata": {},
   "outputs": [
    {
     "data": {
      "text/plain": [
       "['Apple A']"
      ]
     },
     "execution_count": 1,
     "metadata": {},
     "output_type": "execute_result"
    }
   ],
   "source": [
    "int_to_kinds = lambda kinds_dict, items: [kinds_dict[item] for item in items]\n",
    "\n",
    "int_to_kinds({0: 'Apple A'}, [0])"
   ]
  },
  {
   "cell_type": "code",
   "execution_count": 38,
   "metadata": {},
   "outputs": [
    {
     "data": {
      "text/plain": [
       "{0: 'Apple A',\n",
       " 1: 'Apple B',\n",
       " 2: 'Apple C',\n",
       " 3: 'Apple D',\n",
       " 4: 'Apple E',\n",
       " 5: 'Apple F',\n",
       " 6: 'Banana',\n",
       " 7: 'Carambola',\n",
       " 8: 'Kiwi B',\n",
       " 9: 'Kiwi C',\n",
       " 10: 'Mango',\n",
       " 11: 'Orange',\n",
       " 12: 'Peach',\n",
       " 13: 'Pear',\n",
       " 14: 'Persimmon',\n",
       " 15: 'Pitaya',\n",
       " 16: 'Plum',\n",
       " 17: 'Pomegranate',\n",
       " 18: 'Tomatoes',\n",
       " 19: 'guava A',\n",
       " 20: 'guava B',\n",
       " 21: 'kiwi A',\n",
       " 22: 'muskmelon'}"
      ]
     },
     "execution_count": 38,
     "metadata": {},
     "output_type": "execute_result"
    }
   ],
   "source": [
    "import json\n",
    "\n",
    "with open('../results/kinds_dict.txt', 'rt') as file_1:\n",
    "    kinds_dict = json.load(file_1)\n",
    "    kinds_dict = {int(k):v for k,v in kinds_dict.items()}\n",
    "    \n",
    "kinds_dict\n",
    "    "
   ]
  }
 ],
 "metadata": {
  "kernelspec": {
   "display_name": "Python 3.10.8 64-bit",
   "language": "python",
   "name": "python3"
  },
  "language_info": {
   "codemirror_mode": {
    "name": "ipython",
    "version": 3
   },
   "file_extension": ".py",
   "mimetype": "text/x-python",
   "name": "python",
   "nbconvert_exporter": "python",
   "pygments_lexer": "ipython3",
   "version": "3.10.8"
  },
  "orig_nbformat": 4,
  "vscode": {
   "interpreter": {
    "hash": "aee8b7b246df8f9039afb4144a1f6fd8d2ca17a180786b69acc140d282b71a49"
   }
  }
 },
 "nbformat": 4,
 "nbformat_minor": 2
}
